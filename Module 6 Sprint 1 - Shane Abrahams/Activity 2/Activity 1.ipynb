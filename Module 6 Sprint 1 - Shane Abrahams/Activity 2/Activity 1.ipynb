{
 "cells": [
  {
   "cell_type": "code",
   "execution_count": 1,
   "metadata": {},
   "outputs": [
    {
     "name": "stdout",
     "output_type": "stream",
     "text": [
      "One Series\n",
      "0       Red\n",
      "1     Green\n",
      "2     White\n",
      "3       Red\n",
      "4     Black\n",
      "5    Yellow\n",
      "dtype: object\n"
     ]
    }
   ],
   "source": [
    "#  Activity 1\n",
    "# Write a Pandas program to convert Series of lists to one Series. \n",
    "# Sample Output:\n",
    "# Original Series of list\n",
    "# 0 [Red, Green, White]\n",
    "# 1 [Red, Black]\n",
    "# 2 [Yellow]\n",
    "# dtype: object\n",
    "\n",
    "# One Series\n",
    "# 0 Red\n",
    "# 1 Green\n",
    "# 2 White\n",
    "# 3 Red\n",
    "# 4 Black\n",
    "# 5 Yellow\n",
    "\n",
    "dtype: object\n",
    "\n",
    "import pandas as pd\n",
    "\n",
    "s = pd.Series([\n",
    "    ['Red', 'Green', 'White'],\n",
    "    ['Red', 'Black'],\n",
    "    ['Yellow']])\n",
    "\n",
    "combined = []\n",
    "for i in s.index:\n",
    "    combined = combined + s.iloc[i]\n",
    "\n",
    "print(\"One Series\")\n",
    "\n",
    "s = pd.Series(combined)\n",
    "print(s)"
   ]
  },
  {
   "cell_type": "code",
   "execution_count": null,
   "metadata": {},
   "outputs": [],
   "source": []
  }
 ],
 "metadata": {
  "kernelspec": {
   "display_name": "Python 3",
   "language": "python",
   "name": "python3"
  },
  "language_info": {
   "codemirror_mode": {
    "name": "ipython",
    "version": 3
   },
   "file_extension": ".py",
   "mimetype": "text/x-python",
   "name": "python",
   "nbconvert_exporter": "python",
   "pygments_lexer": "ipython3",
   "version": "3.7.6"
  }
 },
 "nbformat": 4,
 "nbformat_minor": 4
}
