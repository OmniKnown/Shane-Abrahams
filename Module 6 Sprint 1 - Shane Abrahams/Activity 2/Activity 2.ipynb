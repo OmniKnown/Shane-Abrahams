{
 "cells": [
  {
   "cell_type": "code",
   "execution_count": 1,
   "metadata": {},
   "outputs": [
    {
     "name": "stdout",
     "output_type": "stream",
     "text": [
      "Original Data Series:\n",
      "0     1\n",
      "1     2\n",
      "2     3\n",
      "3     4\n",
      "4     5\n",
      "5     6\n",
      "6     7\n",
      "7     8\n",
      "8     9\n",
      "9     5\n",
      "10    3\n",
      "dtype: int64\n",
      "Mean of the Data Series:\n",
      "4.818181818181818\n",
      "Standard deviation of the Data Series:\n",
      "2.522624895547565\n"
     ]
    }
   ],
   "source": [
    "# Activity 2\n",
    "# Write a Pandas program to create the mean and standard deviation of the data of a given Series. \n",
    "# Sample Output:\n",
    "# Original Data Series:\n",
    "# 0 1\n",
    "# 1 2\n",
    "# 2 3\n",
    "# 3 4\n",
    "# 4 5\n",
    "# 5 6\n",
    "# 6 7\n",
    "# 7 8\n",
    "# 8 9\n",
    "# 9 5\n",
    "# 10 3\n",
    "# dtype: int64\n",
    "# Mean of the said Data Series:\n",
    "# 4.81818181818\n",
    "# Standard deviation of the said Data Series:\n",
    "# 2.52262489555\n",
    "\n",
    "import pandas as pd\n",
    "\n",
    "sample_output = pd.Series(data = [1,2,3,4,5,6,7,8,9,5,3])\n",
    "\n",
    "print(\"Original Data Series:\")\n",
    "print(sample_output)\n",
    "\n",
    "print(\"Mean of the Data Series:\") # the mean to calculate mean/average of a given list of numbers\n",
    "print(sample_output.mean())\n",
    "\n",
    "print(\"Standard deviation of the Data Series:\") # calculates standard deviation from a sample of data\n",
    "print(sample_output.std())"
   ]
  },
  {
   "cell_type": "code",
   "execution_count": null,
   "metadata": {},
   "outputs": [],
   "source": []
  }
 ],
 "metadata": {
  "kernelspec": {
   "display_name": "Python 3",
   "language": "python",
   "name": "python3"
  },
  "language_info": {
   "codemirror_mode": {
    "name": "ipython",
    "version": 3
   },
   "file_extension": ".py",
   "mimetype": "text/x-python",
   "name": "python",
   "nbconvert_exporter": "python",
   "pygments_lexer": "ipython3",
   "version": "3.7.6"
  }
 },
 "nbformat": 4,
 "nbformat_minor": 4
}
