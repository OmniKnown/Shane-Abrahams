{
 "cells": [
  {
   "cell_type": "code",
   "execution_count": 1,
   "metadata": {},
   "outputs": [
    {
     "name": "stdout",
     "output_type": "stream",
     "text": [
      "Add:\n",
      "0     3\n",
      "1     7\n",
      "2    11\n",
      "3    15\n",
      "4    19\n",
      "dtype: int64\n",
      "\n",
      "Subtract:\n",
      "0    1\n",
      "1    1\n",
      "2    1\n",
      "3    1\n",
      "4    1\n",
      "dtype: int64\n",
      "\n",
      "Multiply:\n",
      "0     2\n",
      "1    12\n",
      "2    30\n",
      "3    56\n",
      "4    90\n",
      "dtype: int64\n",
      "\n",
      "Divide:\n",
      "0    2.000000\n",
      "1    1.333333\n",
      "2    1.200000\n",
      "3    1.142857\n",
      "4    1.111111\n",
      "dtype: float64\n",
      "\n"
     ]
    }
   ],
   "source": [
    "#  Activity 1\n",
    "# Write a Python program to add, subtract, multiple and divide two Pandas Series.  \n",
    "# Sample Series: [2, 4, 6, 8, 10], [1, 3, 5, 7, 9]\n",
    "\n",
    "import pandas as pd\n",
    "\n",
    "One = pd.Series([2, 4, 6, 8, 10])\n",
    "Two = pd.Series([1, 3, 5, 7, 9])\n",
    "\n",
    "A = One + Two\n",
    "print(\"Add:\")\n",
    "print(A)\n",
    "print(\"\")\n",
    "\n",
    "print(\"Subtract:\")\n",
    "A = One - Two\n",
    "print(A)\n",
    "print(\"\")\n",
    "\n",
    "print(\"Multiply:\")\n",
    "A = One * Two\n",
    "print(A)\n",
    "print(\"\")\n",
    "\n",
    "print(\"Divide:\")\n",
    "A = One / Two\n",
    "print(A)\n",
    "print(\"\")"
   ]
  },
  {
   "cell_type": "code",
   "execution_count": null,
   "metadata": {},
   "outputs": [],
   "source": []
  }
 ],
 "metadata": {
  "kernelspec": {
   "display_name": "Python 3",
   "language": "python",
   "name": "python3"
  },
  "language_info": {
   "codemirror_mode": {
    "name": "ipython",
    "version": 3
   },
   "file_extension": ".py",
   "mimetype": "text/x-python",
   "name": "python",
   "nbconvert_exporter": "python",
   "pygments_lexer": "ipython3",
   "version": "3.7.6"
  }
 },
 "nbformat": 4,
 "nbformat_minor": 4
}
