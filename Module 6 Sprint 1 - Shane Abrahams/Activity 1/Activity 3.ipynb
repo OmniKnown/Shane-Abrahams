{
 "cells": [
  {
   "cell_type": "code",
   "execution_count": 1,
   "metadata": {},
   "outputs": [
    {
     "name": "stdout",
     "output_type": "stream",
     "text": [
      "Original dictionary:\n",
      "{'a': 100, 'b': 200, 'c': 300, 'd': 400, 'e': 800}\n",
      "Converted series:\n",
      "a    100\n",
      "b    200\n",
      "c    300\n",
      "d    400\n",
      "e    800\n",
      "dtype: int64\n"
     ]
    }
   ],
   "source": [
    "# Activity 3\n",
    "# Write a Python program to convert a dictionary to a Pandas series.  \n",
    "\n",
    "# Sample Series:\n",
    "# Original dictionary:\n",
    "# {‘a’: 100, ‘b’: 200, ‘c’: 300, ‘d’: 400, ‘e’: 800}\n",
    "# Converted series:\n",
    "# a 100\n",
    "# b 200\n",
    "# c 300\n",
    "# d 400\n",
    "# e 800\n",
    "# dtype: int64\n",
    "\n",
    "import pandas as pd\n",
    "\n",
    "d1 = {'a': 100, 'b': 200, 'c':300, 'd':400, 'e':800}\n",
    "\n",
    "print(\"Original dictionary:\")\n",
    "print(d1)\n",
    "\n",
    "new_series = pd.Series(d1)\n",
    "\n",
    "print(\"Converted series:\")\n",
    "print(new_series)"
   ]
  },
  {
   "cell_type": "code",
   "execution_count": null,
   "metadata": {},
   "outputs": [],
   "source": []
  }
 ],
 "metadata": {
  "kernelspec": {
   "display_name": "Python 3",
   "language": "python",
   "name": "python3"
  },
  "language_info": {
   "codemirror_mode": {
    "name": "ipython",
    "version": 3
   },
   "file_extension": ".py",
   "mimetype": "text/x-python",
   "name": "python",
   "nbconvert_exporter": "python",
   "pygments_lexer": "ipython3",
   "version": "3.7.6"
  }
 },
 "nbformat": 4,
 "nbformat_minor": 4
}
