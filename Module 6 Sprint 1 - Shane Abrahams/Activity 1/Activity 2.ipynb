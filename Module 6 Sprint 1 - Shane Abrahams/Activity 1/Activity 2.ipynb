{
 "cells": [
  {
   "cell_type": "code",
   "execution_count": 5,
   "metadata": {},
   "outputs": [
    {
     "name": "stdout",
     "output_type": "stream",
     "text": [
      "Table 1:\n",
      "0     2\n",
      "1     4\n",
      "2     6\n",
      "3     8\n",
      "4    10\n",
      "dtype: int64\n",
      "\n",
      "Table 2:\n",
      "0    1\n",
      "1    3\n",
      "2    5\n",
      "3    7\n",
      "4    9\n",
      "dtype: int64\n",
      "\n",
      "Compare the Two Tables:\n",
      "Equals =:\n",
      "0    False\n",
      "1    False\n",
      "2    False\n",
      "3    False\n",
      "4    False\n",
      "dtype: bool\n",
      "\n",
      "Greater than >:\n",
      "0    True\n",
      "1    True\n",
      "2    True\n",
      "3    True\n",
      "4    True\n",
      "dtype: bool\n",
      "\n",
      "Less than <:\n",
      "0    False\n",
      "1    False\n",
      "2    False\n",
      "3    False\n",
      "4    False\n",
      "dtype: bool\n",
      "\n"
     ]
    }
   ],
   "source": [
    "# Activity 2\n",
    "# Write a Python program to get the largest integer smaller or equal to the division of the inputs.  \n",
    "# Sample Series: [2, 4, 6, 8, 10], [1, 3, 5, 7, 9]\n",
    "\n",
    "import pandas as pd\n",
    "\n",
    "One = pd.Series([2, 4, 6, 8, 10])\n",
    "Two = pd.Series([1, 3, 5, 7, 9])\n",
    "\n",
    "print(\"Table 1:\")\n",
    "print(One)\n",
    "print(\"\")\n",
    "\n",
    "print(\"Table 2:\")\n",
    "print(Two)\n",
    "print(\"\")\n",
    "\n",
    "print(\"Compare the Two Tables:\")\n",
    "print(\"Equals =:\")\n",
    "print(One == Two)\n",
    "print(\"\")\n",
    "\n",
    "print(\"Greater than >:\")\n",
    "print(One > Two)\n",
    "print(\"\")\n",
    "\n",
    "print(\"Less than <:\")\n",
    "print(One < Two)\n",
    "print(\"\")"
   ]
  },
  {
   "cell_type": "code",
   "execution_count": null,
   "metadata": {},
   "outputs": [],
   "source": []
  }
 ],
 "metadata": {
  "kernelspec": {
   "display_name": "Python 3",
   "language": "python",
   "name": "python3"
  },
  "language_info": {
   "codemirror_mode": {
    "name": "ipython",
    "version": 3
   },
   "file_extension": ".py",
   "mimetype": "text/x-python",
   "name": "python",
   "nbconvert_exporter": "python",
   "pygments_lexer": "ipython3",
   "version": "3.7.6"
  }
 },
 "nbformat": 4,
 "nbformat_minor": 4
}
