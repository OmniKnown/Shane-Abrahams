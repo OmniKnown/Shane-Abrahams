{
 "cells": [
  {
   "cell_type": "code",
   "execution_count": null,
   "metadata": {},
   "outputs": [],
   "source": [
    "# Activity 2\n",
    "# Write a Pandas program to write a DataFrame to CSV file using tab separator. "
   ]
  },
  {
   "cell_type": "code",
   "execution_count": 11,
   "metadata": {},
   "outputs": [
    {
     "name": "stdout",
     "output_type": "stream",
     "text": [
      "Original DataFrame\n",
      "\n",
      "   col1  col2  col3\n",
      "0     1     4     7\n",
      "1     4     5     8\n",
      "2     3     6     9\n",
      "3     4     7     0\n",
      "4     5     8     1\n",
      "\n",
      "Data from new_file.csv file:\n",
      "\n",
      "  col1\\tcol2\\tcol3\n",
      "0          1\\t4\\t7\n",
      "1          4\\t5\\t8\n",
      "2          3\\t6\\t9\n",
      "3          4\\t7\\t0\n",
      "4          5\\t8\\t1\n"
     ]
    }
   ],
   "source": [
    "import pandas as pd\n",
    "import numpy as np\n",
    "\n",
    "data_table = {'col1': [1, 4, 3, 4, 5], \n",
    "     'col2': [4, 5, 6, 7, 8], \n",
    "     'col3': [7, 8, 9, 0, 1]}\n",
    "df = pd.DataFrame(data_table) # table of existing data\n",
    "\n",
    "print(\"Original DataFrame\") # header\n",
    "print(\"\") # space\n",
    "print(df)\n",
    "print(\"\") # space\n",
    "\n",
    "print('Data from new_file.csv file:') # header\n",
    "print(\"\") # space\n",
    "\n",
    "df.to_csv('new_file.csv', sep='\\t', index=False) # function to the new data table, adding the '\\t'\n",
    "\n",
    "n_df = pd.read_csv('new_file.csv') # declaring the new table\n",
    "\n",
    "print(n_df) # printing it"
   ]
  },
  {
   "cell_type": "code",
   "execution_count": null,
   "metadata": {},
   "outputs": [],
   "source": []
  }
 ],
 "metadata": {
  "kernelspec": {
   "display_name": "Python 3",
   "language": "python",
   "name": "python3"
  },
  "language_info": {
   "codemirror_mode": {
    "name": "ipython",
    "version": 3
   },
   "file_extension": ".py",
   "mimetype": "text/x-python",
   "name": "python",
   "nbconvert_exporter": "python",
   "pygments_lexer": "ipython3",
   "version": "3.7.6"
  }
 },
 "nbformat": 4,
 "nbformat_minor": 4
}
